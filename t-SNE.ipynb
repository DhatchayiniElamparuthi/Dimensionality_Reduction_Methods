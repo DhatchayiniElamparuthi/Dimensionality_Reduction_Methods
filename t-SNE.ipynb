{
 "cells": [
  {
   "cell_type": "markdown",
   "id": "0b87e590",
   "metadata": {},
   "source": [
    "### T-distributed Stochastic Neighbour Embedding "
   ]
  },
  {
   "cell_type": "code",
   "execution_count": 2,
   "id": "ae43117b",
   "metadata": {},
   "outputs": [],
   "source": [
    "from pandas import read_csv\n",
    "import pandas as pd\n",
    "\n",
    "from sklearn.manifold import TSNE\n",
    "#from bioinfokit.visuz import cluster"
   ]
  },
  {
   "cell_type": "code",
   "execution_count": 3,
   "id": "20b39699",
   "metadata": {},
   "outputs": [
    {
     "name": "stdout",
     "output_type": "stream",
     "text": [
      "Collecting bioinfokit\n",
      "  Downloading bioinfokit-2.0.8.tar.gz (84 kB)\n",
      "Requirement already satisfied: pandas in c:\\users\\dhatchayini\\anaconda3\\lib\\site-packages (from bioinfokit) (1.2.4)\n",
      "Requirement already satisfied: numpy in c:\\users\\dhatchayini\\anaconda3\\lib\\site-packages (from bioinfokit) (1.20.1)\n",
      "Requirement already satisfied: matplotlib in c:\\users\\dhatchayini\\anaconda3\\lib\\site-packages (from bioinfokit) (3.5.1)\n",
      "Requirement already satisfied: scipy in c:\\users\\dhatchayini\\anaconda3\\lib\\site-packages (from bioinfokit) (1.8.0)\n",
      "Requirement already satisfied: scikit-learn in c:\\users\\dhatchayini\\anaconda3\\lib\\site-packages (from bioinfokit) (1.0.2)\n",
      "Requirement already satisfied: seaborn in c:\\users\\dhatchayini\\anaconda3\\lib\\site-packages (from bioinfokit) (0.11.1)\n",
      "Collecting matplotlib-venn\n",
      "  Downloading matplotlib-venn-0.11.7.tar.gz (29 kB)\n",
      "Collecting tabulate\n",
      "  Downloading tabulate-0.8.9-py3-none-any.whl (25 kB)\n",
      "Requirement already satisfied: statsmodels in c:\\users\\dhatchayini\\anaconda3\\lib\\site-packages (from bioinfokit) (0.12.2)\n",
      "Collecting textwrap3\n",
      "  Downloading textwrap3-0.9.2-py2.py3-none-any.whl (12 kB)\n",
      "Collecting adjustText\n",
      "  Downloading adjustText-0.7.3.tar.gz (7.5 kB)\n",
      "Requirement already satisfied: pillow>=6.2.0 in c:\\users\\dhatchayini\\anaconda3\\lib\\site-packages (from matplotlib->bioinfokit) (8.2.0)\n",
      "Requirement already satisfied: python-dateutil>=2.7 in c:\\users\\dhatchayini\\anaconda3\\lib\\site-packages (from matplotlib->bioinfokit) (2.8.1)\n",
      "Requirement already satisfied: cycler>=0.10 in c:\\users\\dhatchayini\\anaconda3\\lib\\site-packages (from matplotlib->bioinfokit) (0.10.0)\n",
      "Requirement already satisfied: pyparsing>=2.2.1 in c:\\users\\dhatchayini\\anaconda3\\lib\\site-packages (from matplotlib->bioinfokit) (2.4.7)\n",
      "Requirement already satisfied: kiwisolver>=1.0.1 in c:\\users\\dhatchayini\\anaconda3\\lib\\site-packages (from matplotlib->bioinfokit) (1.3.1)\n",
      "Requirement already satisfied: packaging>=20.0 in c:\\users\\dhatchayini\\anaconda3\\lib\\site-packages (from matplotlib->bioinfokit) (20.9)\n",
      "Requirement already satisfied: fonttools>=4.22.0 in c:\\users\\dhatchayini\\anaconda3\\lib\\site-packages (from matplotlib->bioinfokit) (4.32.0)\n",
      "Requirement already satisfied: six in c:\\users\\dhatchayini\\anaconda3\\lib\\site-packages (from cycler>=0.10->matplotlib->bioinfokit) (1.15.0)\n",
      "Requirement already satisfied: pytz>=2017.3 in c:\\users\\dhatchayini\\anaconda3\\lib\\site-packages (from pandas->bioinfokit) (2021.1)\n",
      "Requirement already satisfied: joblib>=0.11 in c:\\users\\dhatchayini\\anaconda3\\lib\\site-packages (from scikit-learn->bioinfokit) (1.0.1)\n",
      "Requirement already satisfied: threadpoolctl>=2.0.0 in c:\\users\\dhatchayini\\anaconda3\\lib\\site-packages (from scikit-learn->bioinfokit) (2.1.0)\n",
      "Requirement already satisfied: patsy>=0.5 in c:\\users\\dhatchayini\\anaconda3\\lib\\site-packages (from statsmodels->bioinfokit) (0.5.1)\n",
      "Building wheels for collected packages: bioinfokit, adjustText, matplotlib-venn\n",
      "  Building wheel for bioinfokit (setup.py): started\n",
      "  Building wheel for bioinfokit (setup.py): finished with status 'done'\n",
      "  Created wheel for bioinfokit: filename=bioinfokit-2.0.8-py3-none-any.whl size=56770 sha256=afe64069341194358b86361d7901f53762b0b27f0fc5aa4f1ce17c9be695247c\n",
      "  Stored in directory: c:\\users\\dhatchayini\\appdata\\local\\pip\\cache\\wheels\\40\\b8\\82\\23dd1b441e2c834181d4c595cff79f091212eb2c482e0550e2\n",
      "  Building wheel for adjustText (setup.py): started\n",
      "  Building wheel for adjustText (setup.py): finished with status 'done'\n",
      "  Created wheel for adjustText: filename=adjustText-0.7.3-py3-none-any.whl size=7098 sha256=f2f0ab5172e66093d7ff4539e5bf8bf1eaea372c0c19e874a83e589bf90d4d26\n",
      "  Stored in directory: c:\\users\\dhatchayini\\appdata\\local\\pip\\cache\\wheels\\06\\b2\\e0\\b239bd2c0ff89b98c4f0c86a63e7059f38a8dfaf6df2641c63\n",
      "  Building wheel for matplotlib-venn (setup.py): started\n",
      "  Building wheel for matplotlib-venn (setup.py): finished with status 'done'\n",
      "  Created wheel for matplotlib-venn: filename=matplotlib_venn-0.11.7-py3-none-any.whl size=32154 sha256=107a9482df78f04752f8198df0d8b8e008d2270d71c5ba156b78dcb1b113d3aa\n",
      "  Stored in directory: c:\\users\\dhatchayini\\appdata\\local\\pip\\cache\\wheels\\fb\\24\\13\\4c7b7f4121843c2fc7c5d6b4b1e3ab57be33428997761f996f\n",
      "Successfully built bioinfokit adjustText matplotlib-venn\n",
      "Installing collected packages: textwrap3, tabulate, matplotlib-venn, adjustText, bioinfokit\n",
      "Successfully installed adjustText-0.7.3 bioinfokit-2.0.8 matplotlib-venn-0.11.7 tabulate-0.8.9 textwrap3-0.9.2\n"
     ]
    }
   ],
   "source": [
    "!pip install bioinfokit"
   ]
  },
  {
   "cell_type": "code",
   "execution_count": 4,
   "id": "da5d5a00",
   "metadata": {},
   "outputs": [],
   "source": [
    "from bioinfokit.visuz import cluster"
   ]
  },
  {
   "cell_type": "code",
   "execution_count": 5,
   "id": "577c37d1",
   "metadata": {},
   "outputs": [],
   "source": [
    "#Load the data\n",
    "filename='TSNE_data.csv'\n",
    "dataframe=pd.read_csv(filename)"
   ]
  },
  {
   "cell_type": "code",
   "execution_count": 6,
   "id": "cc261d24",
   "metadata": {},
   "outputs": [],
   "source": [
    "#Split out the validation dataset\n",
    "array=dataframe.values\n",
    "#Separate the array into input and output components\n",
    "X=array[:,1:]\n",
    "Y=array[:,0]"
   ]
  },
  {
   "cell_type": "code",
   "execution_count": 8,
   "id": "0200779b",
   "metadata": {},
   "outputs": [
    {
     "name": "stderr",
     "output_type": "stream",
     "text": [
      "C:\\Users\\DHATCHAYINI\\anaconda3\\lib\\site-packages\\sklearn\\manifold\\_t_sne.py:780: FutureWarning: The default initialization in TSNE will change from 'random' to 'pca' in 1.2.\n",
      "  warnings.warn(\n",
      "C:\\Users\\DHATCHAYINI\\anaconda3\\lib\\site-packages\\sklearn\\manifold\\_t_sne.py:790: FutureWarning: The default learning rate in TSNE will change from 200.0 to 'auto' in 1.2.\n",
      "  warnings.warn(\n"
     ]
    }
   ],
   "source": [
    "#TSNE visualization\n",
    "\n",
    "from bioinfokit.visuz import cluster\n",
    "data_tsne=TSNE(n_components=2).fit_transform(X) #we are just transforming the data from 30 columns to 2 columns\n",
    "cluster.tsneplot(score=data_tsne)"
   ]
  },
  {
   "cell_type": "code",
   "execution_count": 11,
   "id": "d1228006",
   "metadata": {},
   "outputs": [],
   "source": [
    "#get a list of categories\n",
    "color_class=dataframe['diagnosis'].to_numpy() #converting the 'diagnosis' column to numerical format(where M=1, B=0)\n",
    "cluster.tsneplot(score=data_tsne, colorlist=color_class, legendpos='upper right', legendanchor=(1.15,1))"
   ]
  },
  {
   "cell_type": "markdown",
   "id": "6df8fb1c",
   "metadata": {},
   "source": [
    "##### After executing the above code, we will get a t-sne graph in the form of png and using that graph we can conclude the results."
   ]
  },
  {
   "cell_type": "code",
   "execution_count": 12,
   "id": "22bf7822",
   "metadata": {},
   "outputs": [
    {
     "data": {
      "text/plain": [
       "array([[-30.146738,   8.06069 ],\n",
       "       [-32.061653,   9.978571],\n",
       "       [-28.355824,  12.831959],\n",
       "       ...,\n",
       "       [-12.810786,  22.147923],\n",
       "       [-30.346354,  11.317184],\n",
       "       [ 16.72473 , -48.077652]], dtype=float32)"
      ]
     },
     "execution_count": 12,
     "metadata": {},
     "output_type": "execute_result"
    }
   ],
   "source": [
    "data_tsne"
   ]
  },
  {
   "cell_type": "markdown",
   "id": "d224e0d2",
   "metadata": {},
   "source": [
    "##### The 2 components created are displayed in the above output. Here the 30 columns have been reduced to 2 components and it is not like PCA where we lose some information but in t-SNE we have that 100 persent data to be used."
   ]
  },
  {
   "cell_type": "code",
   "execution_count": null,
   "id": "8c3d16a2",
   "metadata": {},
   "outputs": [],
   "source": []
  }
 ],
 "metadata": {
  "kernelspec": {
   "display_name": "Python 3",
   "language": "python",
   "name": "python3"
  },
  "language_info": {
   "codemirror_mode": {
    "name": "ipython",
    "version": 3
   },
   "file_extension": ".py",
   "mimetype": "text/x-python",
   "name": "python",
   "nbconvert_exporter": "python",
   "pygments_lexer": "ipython3",
   "version": "3.8.8"
  }
 },
 "nbformat": 4,
 "nbformat_minor": 5
}
